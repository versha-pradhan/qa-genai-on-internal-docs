{
 "cells": [
  {
   "cell_type": "code",
   "execution_count": 1,
   "id": "9554cc9e-a235-462e-a959-a64b34b59425",
   "metadata": {},
   "outputs": [],
   "source": [
    "## This notebook is used for question and answer on Quality Assurance wikipedia content"
   ]
  },
  {
   "cell_type": "code",
   "execution_count": null,
   "id": "8aecec65-0119-47dc-95af-88d6afcfbcd9",
   "metadata": {},
   "outputs": [],
   "source": [
    "from langchain.chat_models import AzureChatOpenAI\n",
    "from langchain.embeddings.openai import OpenAIEmbeddings\n",
    "from langchain.vectorstores import FAISS\n",
    "from langchain.chains.qa_with_sources import load_qa_with_sources_chain\n",
    "import initialize_openai_env as initialize"
   ]
  },
  {
   "cell_type": "code",
   "execution_count": null,
   "id": "c5bbeebe-4fb1-427a-aa8e-ca4e4866ebee",
   "metadata": {},
   "outputs": [],
   "source": [
    "#### initialize the environment variables and OpenAP"
   ]
  },
  {
   "cell_type": "code",
   "execution_count": 8,
   "id": "3b99b3c8-3c72-4f74-9301-a7bc46c97a58",
   "metadata": {},
   "outputs": [],
   "source": [
    "initialize.initialize()"
   ]
  },
  {
   "cell_type": "code",
   "execution_count": null,
   "id": "c1cb9515-a94b-43e9-b128-f4ddbf3dd7c6",
   "metadata": {},
   "outputs": [],
   "source": [
    "#### function that prints the answers to the questions"
   ]
  },
  {
   "cell_type": "code",
   "execution_count": null,
   "id": "e00ec6fa-5507-4277-a1b8-99ff68f3ebd6",
   "metadata": {},
   "outputs": [],
   "source": [
    "def print_answer(question, search_index ):\n",
    "    class color:      \n",
    "       GREEN = '\\033[92m'    \n",
    "       BOLD = '\\033[1m'\n",
    "       UNDERLINE = '\\033[4m'\n",
    "       END = '\\033[0m'\n",
    "    # search for all nearest neighbours, so k is set to the total number of vectors within the index\n",
    "    answer = chain(\n",
    "            {\n",
    "                \"input_documents\": search_index.similarity_search(question),\n",
    "                \"question\": question,\n",
    "            },\n",
    "            return_only_outputs=True,\n",
    "    )\n",
    "    print (color.BOLD + \"answer:\" + color.END, answer['output_text'])"
   ]
  },
  {
   "cell_type": "code",
   "execution_count": null,
   "id": "9dc4941c-324e-4aa9-8b66-009fb2794d55",
   "metadata": {},
   "outputs": [],
   "source": [
    "#### Initialize the model and embedding to be used\n",
    "#### Load the faiss vector that will be used to search\n",
    "#### start the question-answer loop till user enters 'q' \n",
    "\n",
    "#### some sample questions to ask:\n",
    "###### explain Quality Assurance\n",
    "###### Name the Approaches \n",
    "###### Is physics related to QA - you should get "
   ]
  },
  {
   "cell_type": "code",
   "execution_count": 10,
   "id": "4d895798-55c0-4d67-a4b3-22056f5d9fb7",
   "metadata": {},
   "outputs": [
    {
     "name": "stdin",
     "output_type": "stream",
     "text": [
      "you:  what is QA\n"
     ]
    },
    {
     "name": "stdout",
     "output_type": "stream",
     "text": [
      "\u001b[1manswer:\u001b[0m QA stands for Quality Assurance, which is a systematic approach to ensure that products or services meet the agreed-upon performance, design, reliability, and maintainability expectations of customers. It is used in both manufacturing and service industries, and includes administrative and procedural activities implemented in a quality system to prevent mistakes and defects in the development and production of products or services, as well as to ensure that quality requirements will be fulfilled. QA is particularly applicable in the medical field, and is used to identify the standards of medical equipment and services. The term \"product assurance\" (PA) is often used instead of quality assurance and is one of the three primary project functions, alongside project management and engineering. Quality assurance is different from quality control, which is focused on process output. SOURCES: ./data/document/Quality_assurance.pdf\n"
     ]
    },
    {
     "name": "stdin",
     "output_type": "stream",
     "text": [
      "you:  Is physics related to QA\n"
     ]
    },
    {
     "name": "stdout",
     "output_type": "stream",
     "text": [
      "\u001b[1manswer:\u001b[0m There is no direct mention of physics in relation to QA in the given content.\n",
      "SOURCES: ./data/document/Quality_assurance.pdf\n"
     ]
    },
    {
     "name": "stdin",
     "output_type": "stream",
     "text": [
      "you:  q\n"
     ]
    }
   ],
   "source": [
    "if __name__ == \"__main__\":\n",
    "    # Initialize LLM model to be used \n",
    "    llm = AzureChatOpenAI(deployment_name=initialize.OPENAI_DEPLOYMENT_NAME,\n",
    "                      model_name=initialize.OPENAI_MODEL_NAME,\n",
    "                      openai_api_base=initialize.OPENAI_DEPLOYMENT_ENDPOINT,\n",
    "                      openai_api_version=initialize.OPENAI_DEPLOYMENT_VERSION,\n",
    "                      openai_api_key=initialize.OPENAI_API_KEY,\n",
    "                      openai_api_type=initialize.OPENAI_API_TYPE)\n",
    "\n",
    "    # initialize embedding model (note use the same embedding that is used for vectorizing data sources\n",
    "    embeddings=OpenAIEmbeddings(deployment=initialize.OPENAI_ADA_EMBEDDING_DEPLOYMENT_NAME,\n",
    "                                model=initialize.OPENAI_ADA_EMBEDDING_MODEL_NAME,\n",
    "                                openai_api_base=initialize.OPENAI_DEPLOYMENT_ENDPOINT,\n",
    "                                openai_api_type=initialize.OPENAI_API_TYPE,\n",
    "                                chunk_size=1)\n",
    "\n",
    "    #load the faiss vector store into memory. This is the vector store created using data_sourceindexer notebook\n",
    "    vector_store = FAISS.load_local(initialize.VECTOR_DB_STORE_LOCATION, embeddings)\n",
    "    \n",
    "    chain = load_qa_with_sources_chain(llm)\n",
    "    while True:\n",
    "        query = input('you: ')\n",
    "        if query == 'q':\n",
    "            break\n",
    "        print_answer(query, vector_store)"
   ]
  },
  {
   "cell_type": "code",
   "execution_count": null,
   "id": "03070575-a9d9-46bc-ae9b-f3f7144e9db6",
   "metadata": {},
   "outputs": [],
   "source": []
  }
 ],
 "metadata": {
  "kernelspec": {
   "display_name": "Python 3 (ipykernel)",
   "language": "python",
   "name": "python3"
  },
  "language_info": {
   "codemirror_mode": {
    "name": "ipython",
    "version": 3
   },
   "file_extension": ".py",
   "mimetype": "text/x-python",
   "name": "python",
   "nbconvert_exporter": "python",
   "pygments_lexer": "ipython3",
   "version": "3.11.5"
  }
 },
 "nbformat": 4,
 "nbformat_minor": 5
}
