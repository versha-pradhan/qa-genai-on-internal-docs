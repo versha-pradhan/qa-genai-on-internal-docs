{
 "cells": [
  {
   "cell_type": "markdown",
   "id": "febfd026-6c7a-4ccd-820a-3a600000e35a",
   "metadata": {},
   "source": [
    "## This file creates the embeddings for the data source files"
   ]
  },
  {
   "cell_type": "code",
   "execution_count": 9,
   "id": "a54487ac-91c9-403c-98f7-ee74796b915b",
   "metadata": {},
   "outputs": [],
   "source": [
    "from langchain.document_loaders import PyPDFLoader\n",
    "from langchain.embeddings.openai import OpenAIEmbeddings\n",
    "from langchain.vectorstores import FAISS\n",
    "import json\n",
    "import initialize_openai_env as initialize\n",
    "\n",
    "from langchain.text_splitter import CharacterTextSplitter"
   ]
  },
  {
   "cell_type": "markdown",
   "id": "bc9b76b4-146c-4d19-8ce1-6b7721b27ef5",
   "metadata": {},
   "source": [
    "#### initialize the environment variables and OpenAPI"
   ]
  },
  {
   "cell_type": "code",
   "execution_count": 4,
   "id": "24ed8e0d-d1fe-4e9e-8793-263b989cfda6",
   "metadata": {},
   "outputs": [],
   "source": [
    "initialize.initialize()"
   ]
  },
  {
   "cell_type": "code",
   "execution_count": null,
   "id": "a8531fda-8377-48e8-88ef-872c3c0e8a23",
   "metadata": {},
   "outputs": [],
   "source": [
    "#### define the function to fecth the first entry from the json\n",
    "###### for the purpose of this simple example the json file contains a single entry for \n",
    "###### pdf file "
   ]
  },
  {
   "cell_type": "code",
   "execution_count": 5,
   "id": "dfe46bd9-e819-46d7-ad3a-cc931abf0211",
   "metadata": {},
   "outputs": [],
   "source": [
    "def get_first_pdf_file():\n",
    "     data_sources_json_file_path = initialize.DATA_SOURCE_JSON_FILE\n",
    "     file_full_path = ''                    \n",
    "     try:\n",
    "        with open(data_sources_json_file_path, 'r') as json_file:\n",
    "            data = json.load(json_file)\n",
    "            file_entries = data.get('filenames', [])\n",
    "\n",
    "    \n",
    "        filename = file_entries[0].get('filename', '')\n",
    "        file_type = file_entries[0].get('file_type', '')\n",
    "        file_location = file_entries[0].get('location', '')\n",
    "        file_full_path = file_location + filename\n",
    "        #print(f\"Filename: {filename}, File Type: {file_type}, File Location: {file_location}, Full: {file_full_path}\") \n",
    "     except FileNotFoundError:\n",
    "        print(f\"The file '{json_file_path}' was not found.\")\n",
    "     except json.JSONDecodeError as e:\n",
    "        print(f\"Error parsing JSON: {e}\")         \n",
    "     return file_full_path"
   ]
  },
  {
   "cell_type": "code",
   "execution_count": null,
   "id": "f6228ee6-902a-42b6-946d-4b3c3773f335",
   "metadata": {},
   "outputs": [],
   "source": [
    "#### create the faiss vector store for the pdf document"
   ]
  },
  {
   "cell_type": "code",
   "execution_count": 11,
   "id": "62c7330b-24dc-43e0-a0ed-fd924a36e4bf",
   "metadata": {},
   "outputs": [],
   "source": [
    "if __name__ == \"__main__\":\n",
    "    embeddings=OpenAIEmbeddings(deployment=initialize.OPENAI_ADA_EMBEDDING_DEPLOYMENT_NAME,\n",
    "                                model=initialize.OPENAI_ADA_EMBEDDING_MODEL_NAME,\n",
    "                                openai_api_base=initialize.OPENAI_DEPLOYMENT_ENDPOINT,\n",
    "                                openai_api_type=initialize.OPENAI_API_TYPE,\n",
    "                                chunk_size=1)\n",
    "\n",
    "    file_name = get_first_pdf_file()\n",
    "   \n",
    "\n",
    "    #use langchain PDF loader\n",
    "    loader = PyPDFLoader(file_name)\n",
    "\n",
    "    #split the document into chunks\n",
    "    pages = loader.load_and_split()\n",
    "    text_splitter = CharacterTextSplitter(separator=\"\\n\", chunk_size=1000, chunk_overlap=200)\n",
    "    docs = text_splitter.split_documents(pages) \n",
    "    \n",
    "    #Use Langchain to create the embeddings using text-embedding-ada-002\n",
    "    db = FAISS.from_documents(documents=docs, embedding=embeddings)\n",
    "\n",
    "    #save the embeddings into FAISS vector store\n",
    "    db.save_local(initialize.VECTOR_DB_STORE_LOCATION)"
   ]
  },
  {
   "cell_type": "code",
   "execution_count": null,
   "id": "b8e86867-76b2-4b35-85d9-9bc9d7709f4a",
   "metadata": {},
   "outputs": [],
   "source": []
  },
  {
   "cell_type": "code",
   "execution_count": null,
   "id": "3471afcf-4389-407a-8acf-10589b9e4e7a",
   "metadata": {},
   "outputs": [],
   "source": []
  }
 ],
 "metadata": {
  "kernelspec": {
   "display_name": "Python 3 (ipykernel)",
   "language": "python",
   "name": "python3"
  },
  "language_info": {
   "codemirror_mode": {
    "name": "ipython",
    "version": 3
   },
   "file_extension": ".py",
   "mimetype": "text/x-python",
   "name": "python",
   "nbconvert_exporter": "python",
   "pygments_lexer": "ipython3",
   "version": "3.11.5"
  }
 },
 "nbformat": 4,
 "nbformat_minor": 5
}
